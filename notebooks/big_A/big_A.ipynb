{
 "cells": [
  {
   "cell_type": "code",
   "execution_count": null,
   "metadata": {},
   "outputs": [],
   "source": [
    "%load_ext autoreload\n",
    "%autoreload 2\n",
    "\n",
    "import os\n",
    "import sys\n",
    "import pandas as pd\n",
    "import time\n",
    "import matplotlib.pyplot as plt\n",
    "import plotly.express as px\n",
    "\n",
    "from pathlib import Path\n",
    "ROOT_DIR=Path(os.getcwd()).parent.parent\n",
    "if not str(ROOT_DIR) in sys.path:\n",
    "    sys.path.append(str(ROOT_DIR))\n",
    "for p in sys.path:\n",
    "    print(p)"
   ]
  },
  {
   "cell_type": "code",
   "execution_count": null,
   "metadata": {},
   "outputs": [],
   "source": [
    "from src.data.equity_data.tradingview import BigA\n",
    "biga = BigA()"
   ]
  },
  {
   "cell_type": "code",
   "execution_count": null,
   "metadata": {},
   "outputs": [],
   "source": [
    "stocks, etfs, foreign_etf = biga.load_data_cache_from_csv(dt='2023-12-29')"
   ]
  },
  {
   "cell_type": "code",
   "execution_count": null,
   "metadata": {},
   "outputs": [],
   "source": [
    "#BigA.top_sharp_ratios(stocks)"
   ]
  },
  {
   "cell_type": "code",
   "execution_count": null,
   "metadata": {},
   "outputs": [],
   "source": [
    "#BigA.alpha_scatter(stocks)"
   ]
  },
  {
   "cell_type": "code",
   "execution_count": null,
   "metadata": {},
   "outputs": [],
   "source": [
    "#BigA.alpha_histogram(stocks)\n",
    "stocks['name_cn'].shape"
   ]
  },
  {
   "cell_type": "code",
   "execution_count": null,
   "metadata": {},
   "outputs": [],
   "source": [
    "import efinance as ef"
   ]
  },
  {
   "cell_type": "code",
   "execution_count": null,
   "metadata": {},
   "outputs": [],
   "source": [
    "import datetime\n",
    "today = datetime.datetime.today().strftime('%Y-%m-%d')\n",
    "\n",
    "import sqlite3\n",
    "conn = sqlite3.connect(ROOT_DIR / 'database' / 'China_A_Share.db')\n",
    "\n",
    "# 从数据库中读取已经下载的股票代码\n",
    "query = f\"\"\"\n",
    "SELECT DISTINCT 股票代码 FROM history_quote\n",
    "\"\"\"\n",
    "df = pd.read_sql(query, conn)\n",
    "cached_tickers=df['股票代码'].values.tolist()\n",
    "\n",
    "stocks_to_download = stocks[~stocks.tic.isin(cached_tickers)]\n",
    "\n",
    "from tqdm import tqdm\n",
    "with tqdm(total=stocks_to_download.shape[0], desc=\"下载历史行情\") as pbar:\n",
    "    for i, row in stocks_to_download.iterrows():\n",
    "        df = ef.stock.get_quote_history(stock_codes=row.tic)\n",
    "        df.to_sql('history_quote', conn, if_exists='append', index=False)\n",
    "        pbar.update(1)"
   ]
  },
  {
   "cell_type": "code",
   "execution_count": null,
   "metadata": {},
   "outputs": [],
   "source": []
  },
  {
   "cell_type": "code",
   "execution_count": null,
   "metadata": {},
   "outputs": [],
   "source": []
  },
  {
   "cell_type": "code",
   "execution_count": null,
   "metadata": {},
   "outputs": [],
   "source": []
  }
 ],
 "metadata": {
  "kernelspec": {
   "display_name": "newworld",
   "language": "python",
   "name": "python3"
  },
  "language_info": {
   "codemirror_mode": {
    "name": "ipython",
    "version": 3
   },
   "file_extension": ".py",
   "mimetype": "text/x-python",
   "name": "python",
   "nbconvert_exporter": "python",
   "pygments_lexer": "ipython3",
   "version": "3.10.9"
  }
 },
 "nbformat": 4,
 "nbformat_minor": 2
}
