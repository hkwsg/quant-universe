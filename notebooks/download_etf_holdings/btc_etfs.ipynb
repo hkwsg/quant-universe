{
 "cells": [
  {
   "cell_type": "code",
   "execution_count": null,
   "metadata": {},
   "outputs": [],
   "source": [
    "import sys, os\n",
    "import itertools\n",
    "from pathlib import Path\n",
    "ROOT_DIR=Path(os.getcwd()).parent.parent\n",
    "sys.path.append(str(ROOT_DIR))\n",
    "\n",
    "from src.config import DB_DIR\n",
    "from src.data.equity_data.etf.holdings import get_ark_etf_holdings, scrape_webpage\n",
    "import src.data.equity_data.etf.btc_etf_holdings as BTC_ETF_Scraper\n",
    "\n",
    "import streamlit as st\n",
    "import plotly.express as px\n",
    "import sqlite3\n",
    "import datetime\n",
    "import pandas as pd"
   ]
  },
  {
   "cell_type": "code",
   "execution_count": null,
   "metadata": {},
   "outputs": [],
   "source": [
    "BTC_ETF_Scraper.get_holdings()"
   ]
  },
  {
   "cell_type": "code",
   "execution_count": null,
   "metadata": {},
   "outputs": [],
   "source": [
    "holdings_data = BTC_ETF_Scraper.scrape_btc_etf_holdings(3)\n",
    "holdings_data"
   ]
  },
  {
   "cell_type": "code",
   "execution_count": null,
   "metadata": {},
   "outputs": [],
   "source": [
    "BTC_ETF_Scraper.write_to_db(holdings_data)"
   ]
  },
  {
   "cell_type": "code",
   "execution_count": null,
   "metadata": {},
   "outputs": [],
   "source": [
    "BTC_ETF_Scraper.correct_date('ARKB','2024-01-18','2024-01-17')"
   ]
  },
  {
   "cell_type": "code",
   "execution_count": null,
   "metadata": {},
   "outputs": [],
   "source": [
    "import numpy as np\n",
    "BTC_ETF_Scraper.insert_records('FBTC','2024-01-17',20506.54,874645041.15,np.nan,np.nan)\n",
    "BTC_ETF_Scraper.insert_records('EZBC','2024-01-17',1160,49492977,np.nan,np.nan)\n",
    "BTC_ETF_Scraper.insert_records('BTCO','2024-01-17',np.nan,137500000,np.nan,np.nan)"
   ]
  },
  {
   "cell_type": "code",
   "execution_count": null,
   "metadata": {},
   "outputs": [],
   "source": [
    "BTC_ETF_Scraper.fill_missing_price(method='mv/quant')\n",
    "avg_mv = BTC_ETF_Scraper.get_holdings().groupby('date').average_mv.mean().to_dict()\n",
    "for date, p in avg_mv.items():\n",
    "    BTC_ETF_Scraper.fill_missing_price(method='value', date=date, price=p)    \n",
    "BTC_ETF_Scraper.fill_missing_holdings()\n",
    "#.set_index(['date','etf_ticker']).btc_holdings.unstack()"
   ]
  },
  {
   "cell_type": "code",
   "execution_count": null,
   "metadata": {},
   "outputs": [],
   "source": [
    "BTC_ETF_Scraper.get_holdings()"
   ]
  },
  {
   "cell_type": "code",
   "execution_count": null,
   "metadata": {},
   "outputs": [],
   "source": [
    "fig = px.bar(\n",
    "    BTC_ETF_Scraper.get_holdings().set_index(['date','etf_ticker'])\\\n",
    "        .btc_holdings.unstack().rename(pd.to_datetime)[['ARKB','IBIT','FBTC','BTCO','BRRR','EZBC']]\\\n",
    "        .dropna(how='all')\\\n",
    "        .rename(columns={'ARKB': 'ARK 21Shares Bitcoin ETF', \n",
    "                         'IBIT': '贝莱德比特币ETF',\n",
    "                         'FBTC': 'Fidelity比特币ETF',\n",
    "                         'BRRR': 'Valkyrie Bitcoin ETF',\n",
    "                         'BTCO': 'Invesco Bitcoin ETF',\n",
    "                         'EZBC': '富兰克林比特币ETF'}),\n",
    "    barmode='stack',\n",
    "    color_discrete_sequence=['#FFD300','#FF0800','#00A86B','orange','#0080FF','#AF69EF'],\n",
    "    template='plotly_dark'    \n",
    ")\n",
    "fig.update_layout(\n",
    "    height=700, width=1000,\n",
    "    title=f'比特币ETF持仓量（截止 2024-1-17）',\n",
    "    xaxis_title='持仓日期',\n",
    "    yaxis_title='比特币持有量',\n",
    "    legend_title_text=None,\n",
    "    legend=dict(orientation=\"v\",yanchor=\"top\",y=1,xanchor=\"left\",x=1),\n",
    "    annotations=[\n",
    "        dict(xref=\"paper\",yref=\"paper\",x=0,y=-1,showarrow=False,\n",
    "            text=\"数据来源：ARK Invest, BlackRock, Valkyrie, Invesco, Franklin Templeton\",\n",
    "            font=dict(size=12,color=\"#ffffff\"\n",
    "            )\n",
    "        )\n",
    "    ],\n",
    ")\n",
    "fig.update_xaxes(rangebreaks=[dict(bounds=[\"sat\", \"mon\"])])"
   ]
  },
  {
   "cell_type": "code",
   "execution_count": null,
   "metadata": {},
   "outputs": [],
   "source": []
  }
 ],
 "metadata": {
  "kernelspec": {
   "display_name": "newworld",
   "language": "python",
   "name": "python3"
  },
  "language_info": {
   "codemirror_mode": {
    "name": "ipython",
    "version": 3
   },
   "file_extension": ".py",
   "mimetype": "text/x-python",
   "name": "python",
   "nbconvert_exporter": "python",
   "pygments_lexer": "ipython3",
   "version": "3.10.9"
  }
 },
 "nbformat": 4,
 "nbformat_minor": 2
}
