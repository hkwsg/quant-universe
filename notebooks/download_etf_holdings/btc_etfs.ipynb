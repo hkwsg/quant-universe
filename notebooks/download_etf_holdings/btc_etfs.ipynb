{
 "cells": [
  {
   "cell_type": "code",
   "execution_count": null,
   "metadata": {},
   "outputs": [],
   "source": [
    "import sys, os\n",
    "import itertools\n",
    "from pathlib import Path\n",
    "ROOT_DIR=Path(os.getcwd()).parent.parent\n",
    "sys.path.append(str(ROOT_DIR))\n",
    "\n",
    "from src.utils.pandas_utils import df_filter, set_cols_numeric\n",
    "from src.data.equity_data.tradingview import TradingView\n",
    "from src.data.equity_data.yfinance_old import Stock\n",
    "from src.config import DB_DIR\n",
    "from src.data.equity_data.etf.holdings import get_ark_etf_holdings, scrape_webpage, spdr_etfs_urls\n",
    "from src.script.compile_etf_holdings import _download_etf_holdings\n",
    "\n",
    "import streamlit as st\n",
    "import plotly.express as px\n",
    "import sqlite3\n",
    "import datetime\n",
    "import pandas as pd"
   ]
  },
  {
   "cell_type": "code",
   "execution_count": null,
   "metadata": {},
   "outputs": [],
   "source": [
    "holdings_urls = {\n",
    "    \"ARKB\": \"https://ark-funds.com/wp-content/uploads/funds-etf-csv/ARK_21SHARES_BITCOIN_ETF_ARKB_HOLDINGS.csv\",\n",
    "    'IBIT': \"https://www.ishares.com/us/products/333011/fund/1467271812596.ajax?fileType=csv&fileName=IBIT_holdings&dataType=fund\",\n",
    "    \"BRRR\": \"https://valkyrieinvest.com/brrr-holdings/\",\n",
    "    \"FBTC\": \"https://research2.fidelity.com/fidelity/screeners/etf/etfholdings.asp?symbol=FBTC&view=Holdings\",\n",
    "    \"EZBC\": \"https://www.franklintempleton.com/investments/options/exchange-traded-funds/products/39639/SINGLCLASS/franklin-bitcoin-etf/EZBC\"\n",
    "}"
   ]
  },
  {
   "cell_type": "code",
   "execution_count": null,
   "metadata": {},
   "outputs": [],
   "source": [
    "# Spot BTC ETFs\n",
    "summary_urls ={\n",
    "    \"BTCW\": [],\n",
    "    \"BTCO\": [\n",
    "        \"https://www.invesco.com/us/financial-products/etfs/product-detail?ticker=BTCO\"\n",
    "    ],\n",
    "    \"FBTC\": [\n",
    "        \"https://digital.fidelity.com/prgw/digital/research/quote/dashboard/key-statistics?symbol=FBTC\",\n",
    "        \"https://digital.fidelity.com/prgw/digital/research/quote/dashboard/summary?symbol=FBTC\"\n",
    "    ],\n",
    "}"
   ]
  },
  {
   "cell_type": "code",
   "execution_count": null,
   "metadata": {},
   "outputs": [],
   "source": [
    "def scrape_ibit_holdings():\n",
    "    ibit_holdings = _download_etf_holdings(holdings_urls['IBIT'])\\\n",
    "        .set_index('Ticker')\\\n",
    "        .assign(Shares = lambda x: x['Shares'].apply(lambda y: y.replace(',','')).astype(float))\\\n",
    "        .rename(columns={'Market Value': 'mv'})\\\n",
    "        .assign(mv = lambda x: x['mv'].apply(lambda y: y.replace(',','')).astype(float))\n",
    "    \n",
    "    return pd.DataFrame({\n",
    "        'IBIT': \n",
    "        {\n",
    "            'date': ibit_holdings.xs('BTC')['as_of_date'],\n",
    "            'btc_holdings': ibit_holdings.xs('BTC').Shares,\n",
    "            'btc_mv': ibit_holdings.xs('BTC')['mv']/1e9,\n",
    "            'average_mv': ibit_holdings.xs('BTC')['mv']/ibit_holdings.xs('BTC').Shares, \n",
    "            'cash_holdings': ibit_holdings.xs('USD').Shares\n",
    "        }\n",
    "    })"
   ]
  },
  {
   "cell_type": "code",
   "execution_count": null,
   "metadata": {},
   "outputs": [],
   "source": [
    "def scrape_arkb_holdings():\n",
    "    arkb_holdings = get_ark_etf_holdings('ARKB').set_index('ticker')\n",
    "    return pd.DataFrame({\n",
    "        'ARKB': {\n",
    "            'date': arkb_holdings.xs('BTC')['date'],\n",
    "            'btc_holdings': arkb_holdings.xs('BTC')['shares'],\n",
    "            'btc_mv': arkb_holdings.xs('BTC')['market_value']/1e9,\n",
    "            'average_mv': arkb_holdings.xs('BTC').market_value/arkb_holdings.xs('BTC').shares,\n",
    "            'cash_holdings': 0.0,\n",
    "        }\n",
    "    })"
   ]
  },
  {
   "cell_type": "code",
   "execution_count": null,
   "metadata": {},
   "outputs": [],
   "source": [
    "def scrape_brrr_holdings():\n",
    "    brrr_holdings_soup = scrape_webpage(holdings_urls['BRRR'])\n",
    "    date_str = brrr_holdings_soup.find_all('tr', id='table_13_row_27')[0].find_all('td')[0].text\n",
    "    actual_date = datetime.datetime.strptime(date_str, '%m/%d/%Y').date() - datetime.timedelta(days=1)\n",
    "    return pd.DataFrame({\n",
    "        'BRRR': {\n",
    "            'date': actual_date.isoformat(),\n",
    "            'btc_holdings': float(brrr_holdings_soup.find_all('tr', id='table_13_row_27')[0].find_all('td')[5].text.replace(',','')),\n",
    "            'btc_mv': float(brrr_holdings_soup.find_all('tr', id='table_13_row_27')[0].find_all('td')[7].text.replace(',',''))/1e9,\n",
    "            'average_mv': float(brrr_holdings_soup.find_all('tr', id='table_13_row_27')[0].find_all('td')[6].text.replace(',','')),\n",
    "            'cash_holdings': float(brrr_holdings_soup.find_all('tr', id='table_13_row_28')[0].find_all('td')[7].text.replace(',','')),\n",
    "        }\n",
    "    })"
   ]
  },
  {
   "cell_type": "code",
   "execution_count": null,
   "metadata": {},
   "outputs": [],
   "source": [
    "def scrape_btc_etf_holdings(max_retry: int):\n",
    "    scraper_map = {\n",
    "        'ARKB': scrape_arkb_holdings,\n",
    "        'IBIT': scrape_ibit_holdings,\n",
    "        'BRRR': scrape_brrr_holdings\n",
    "    }\n",
    "    \n",
    "    holdings_list = []\n",
    "    for tic, func in scraper_map.items():\n",
    "        retry_count = 0\n",
    "        while retry_count < max_retry:\n",
    "            try:\n",
    "                holdings = func()\n",
    "                holdings_list.append(holdings)\n",
    "                retry_count = max_retry\n",
    "                print(f\"Successfully scraped {tic} holdings\")\n",
    "            except:\n",
    "                retry_count += 1\n",
    "                print(f\"Failed to scrape {tic} holdings. Retrying...\")\n",
    "                continue\n",
    "    return pd.concat(holdings_list, axis=1)\n"
   ]
  },
  {
   "cell_type": "code",
   "execution_count": null,
   "metadata": {},
   "outputs": [],
   "source": [
    "btc_etf_holdings = scrape_btc_etf_holdings(3)"
   ]
  },
  {
   "cell_type": "code",
   "execution_count": null,
   "metadata": {},
   "outputs": [],
   "source": [
    "def write_to_db(btc_etf_holdings: pd.DataFrame):\n",
    "    import sqlite3\n",
    "    from src.config import DB_DIR\n",
    "    conn = sqlite3.connect(DB_DIR/'etf_holdings.db')\n",
    "    btc_etf_holdings.T.reset_index().rename(columns={'index': 'etf_ticker'})\\\n",
    "        .assign(btc_holdings = lambda x: x['btc_holdings'].astype(float))\\\n",
    "        .assign(date=lambda x: pd.to_datetime(x['date'], format='mixed'))\\\n",
    "        .assign(date=lambda x: x['date'].dt.strftime('%Y-%m-%d'))\\\n",
    "        .to_sql('btc_etf_holdings', conn, if_exists='append', index=False)\n",
    "    conn.close()\n",
    "    \n",
    "\n",
    "def get_holdings():\n",
    "    import sqlite3\n",
    "    from src.config import DB_DIR\n",
    "    conn = sqlite3.connect(DB_DIR/'etf_holdings.db')\n",
    "    existing_holdings = pd.read_sql('select * from btc_etf_holdings', conn)\n",
    "    conn.close()\n",
    "    return existing_holdings.drop_duplicates()"
   ]
  },
  {
   "cell_type": "code",
   "execution_count": null,
   "metadata": {},
   "outputs": [],
   "source": [
    "write_to_db(btc_etf_holdings)"
   ]
  },
  {
   "cell_type": "code",
   "execution_count": null,
   "metadata": {},
   "outputs": [],
   "source": [
    "import sqlite3\n",
    "from src.config import DB_DIR\n",
    "conn = sqlite3.connect(DB_DIR/'etf_holdings.db')"
   ]
  },
  {
   "cell_type": "code",
   "execution_count": null,
   "metadata": {},
   "outputs": [],
   "source": [
    "# update the DB date record for BRRR\n",
    "\n",
    "conn.execute(\"update btc_etf_holdings set date = '2024-01-12' where date = '2024-01-16' and etf_ticker = 'BRRR' \")\n",
    "#conn.commit()"
   ]
  },
  {
   "cell_type": "code",
   "execution_count": null,
   "metadata": {},
   "outputs": [],
   "source": [
    "get_holdings()\n",
    "#.set_index(['date','etf_ticker']).btc_holdings.unstack('etf_ticker')"
   ]
  },
  {
   "cell_type": "code",
   "execution_count": null,
   "metadata": {},
   "outputs": [],
   "source": [
    "## EZBC (Franklin)\n",
    "ezbc_holdings_soup = scrape_webpage(holdings_urls['EZBC'])\n",
    "#btc_per_basket = 29\n",
    "#baskets = btc_holdings/btc_per_basket\n",
    "#shares_per_basket = etf_shares/baskets\n",
    "#baskets, shares_per_basket\n",
    "## FBTC\n",
    "fbtc_soup = scrape_webpage(summary_urls['FBTC'][0])\n",
    "print(summary_urls['FBTC'][0])\n",
    "fbtc_soup.find_all()\n",
    "fbtc_holdings_soup=scrape_webpage(holdings_urls['FBTC'])"
   ]
  }
 ],
 "metadata": {
  "kernelspec": {
   "display_name": "newworld",
   "language": "python",
   "name": "python3"
  },
  "language_info": {
   "codemirror_mode": {
    "name": "ipython",
    "version": 3
   },
   "file_extension": ".py",
   "mimetype": "text/x-python",
   "name": "python",
   "nbconvert_exporter": "python",
   "pygments_lexer": "ipython3",
   "version": "3.10.9"
  }
 },
 "nbformat": 4,
 "nbformat_minor": 2
}
