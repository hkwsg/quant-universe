{
 "cells": [
  {
   "cell_type": "code",
   "execution_count": null,
   "metadata": {},
   "outputs": [],
   "source": [
    "import sys, os\n",
    "import itertools\n",
    "from pathlib import Path\n",
    "ROOT_DIR=Path(os.getcwd()).parent.parent\n",
    "sys.path.append(str(ROOT_DIR))\n",
    "\n",
    "from src.utils.pandas_utils import df_filter, set_cols_numeric\n",
    "from src.data.equity_data.tradingview import TradingView\n",
    "from src.data.equity_data.yfinance_old import Stock\n",
    "from src.config import DB_DIR\n",
    "from src.data.equity_data.etf.holdings import get_ark_etf_holdings, scrape_webpage, spdr_etfs_urls\n",
    "from src.script.compile_etf_holdings import _download_etf_holdings\n",
    "\n",
    "import streamlit as st\n",
    "import plotly.express as px\n",
    "import sqlite3\n",
    "import datetime\n",
    "import pandas as pd"
   ]
  },
  {
   "cell_type": "code",
   "execution_count": null,
   "metadata": {},
   "outputs": [],
   "source": [
    "holdings_urls = {\n",
    "    \"ARKB\": \"https://ark-funds.com/wp-content/uploads/funds-etf-csv/ARK_21SHARES_BITCOIN_ETF_ARKB_HOLDINGS.csv\",\n",
    "    'IBIT': \"https://www.ishares.com/us/products/333011/fund/1467271812596.ajax?fileType=csv&fileName=IBIT_holdings&dataType=fund\",\n",
    "    \"BRRR\": \"https://valkyrieinvest.com/brrr-holdings/\",\n",
    "    \"FBTC\": \"https://research2.fidelity.com/fidelity/screeners/etf/etfholdings.asp?symbol=FBTC&view=Holdings\",\n",
    "    \"EZBC\": \"https://www.franklintempleton.com/investments/options/exchange-traded-funds/products/39639/SINGLCLASS/franklin-bitcoin-etf/EZBC\"\n",
    "}"
   ]
  },
  {
   "cell_type": "code",
   "execution_count": null,
   "metadata": {},
   "outputs": [],
   "source": [
    "# Spot BTC ETFs\n",
    "summary_urls ={\n",
    "    \"BTCW\": [],\n",
    "    \"BTCO\": [\n",
    "        \"https://www.invesco.com/us/financial-products/etfs/product-detail?ticker=BTCO\"\n",
    "    ],\n",
    "    \"FBTC\": [\n",
    "        \"https://digital.fidelity.com/prgw/digital/research/quote/dashboard/key-statistics?symbol=FBTC\",\n",
    "        \"https://digital.fidelity.com/prgw/digital/research/quote/dashboard/summary?symbol=FBTC\"\n",
    "    ],\n",
    "}"
   ]
  },
  {
   "cell_type": "markdown",
   "metadata": {},
   "source": [
    "## IBIT"
   ]
  },
  {
   "cell_type": "code",
   "execution_count": null,
   "metadata": {},
   "outputs": [],
   "source": [
    "ibit_holdings = _download_etf_holdings(holdings_urls['IBIT'])\\\n",
    "    .set_index('Ticker')\\\n",
    "    .assign(Shares = lambda x: x['Shares'].apply(lambda y: y.replace(',','')).astype(float))\\\n",
    "    .rename(columns={'Market Value': 'mv'})\\\n",
    "    .assign(mv = lambda x: x['mv'].apply(lambda y: y.replace(',','')).astype(float))\n",
    "ibit_holdings"
   ]
  },
  {
   "cell_type": "code",
   "execution_count": null,
   "metadata": {},
   "outputs": [],
   "source": [
    "ibit_info = pd.DataFrame({\n",
    "    'IBIT': \n",
    "    {\n",
    "        'date': ibit_holdings.xs('BTC')['as_of_date'],\n",
    "        'btc_holdings': ibit_holdings.xs('BTC').Shares,\n",
    "        'btc_mv': ibit_holdings.xs('BTC')['mv']/1e9,\n",
    "        'average_mv': ibit_holdings.xs('BTC')['mv']/ibit_holdings.xs('BTC').Shares, \n",
    "        'cash_holdings': ibit_holdings.xs('USD').Shares\n",
    "    }\n",
    "})"
   ]
  },
  {
   "cell_type": "markdown",
   "metadata": {},
   "source": [
    "## ARKB"
   ]
  },
  {
   "cell_type": "code",
   "execution_count": null,
   "metadata": {},
   "outputs": [],
   "source": [
    "arkb_holdings = get_ark_etf_holdings('ARKB').set_index('ticker')\n",
    "arkb_holdings"
   ]
  },
  {
   "cell_type": "code",
   "execution_count": null,
   "metadata": {},
   "outputs": [],
   "source": [
    "arkb_info = pd.DataFrame({\n",
    "    'ARKB': {\n",
    "        'date': arkb_holdings.xs('BTC')['date'],\n",
    "        'btc_holdings': arkb_holdings.xs('BTC')['shares'],\n",
    "        'btc_mv': arkb_holdings.xs('BTC')['market_value']/1e9,\n",
    "        'average_mv': arkb_holdings.xs('BTC').market_value/arkb_holdings.xs('BTC').shares,\n",
    "        'cash_holdings': 0.0,\n",
    "    }\n",
    "})"
   ]
  },
  {
   "cell_type": "markdown",
   "metadata": {},
   "source": [
    "## BRRR"
   ]
  },
  {
   "cell_type": "code",
   "execution_count": null,
   "metadata": {},
   "outputs": [],
   "source": [
    "brrr_holdings_soup = scrape_webpage(holdings_urls['BRRR'])"
   ]
  },
  {
   "cell_type": "code",
   "execution_count": null,
   "metadata": {},
   "outputs": [],
   "source": [
    "brrr_info = pd.DataFrame({\n",
    "    'BRRR': {\n",
    "        'date': brrr_holdings_soup.find_all('tr', id='table_13_row_27')[0].find_all('td')[0].text,\n",
    "        'btc_holdings': float(brrr_holdings_soup.find_all('tr', id='table_13_row_27')[0].find_all('td')[5].text.replace(',','')),\n",
    "        'btc_mv': float(brrr_holdings_soup.find_all('tr', id='table_13_row_27')[0].find_all('td')[7].text.replace(',',''))/1e9,\n",
    "        'average_mv': float(brrr_holdings_soup.find_all('tr', id='table_13_row_27')[0].find_all('td')[6].text.replace(',','')),\n",
    "        'cash_holdings': float(brrr_holdings_soup.find_all('tr', id='table_13_row_28')[0].find_all('td')[7].text.replace(',','')),\n",
    "    }\n",
    "})\n",
    "brrr_info"
   ]
  },
  {
   "cell_type": "markdown",
   "metadata": {},
   "source": [
    "## EZBC (Franklin)"
   ]
  },
  {
   "cell_type": "code",
   "execution_count": null,
   "metadata": {},
   "outputs": [],
   "source": [
    "ezbc_holdings_soup = scrape_webpage(holdings_urls['EZBC'])"
   ]
  },
  {
   "cell_type": "code",
   "execution_count": null,
   "metadata": {},
   "outputs": [],
   "source": [
    "#btc_per_basket = 29\n",
    "#baskets = btc_holdings/btc_per_basket\n",
    "#shares_per_basket = etf_shares/baskets\n",
    "#baskets, shares_per_basket"
   ]
  },
  {
   "cell_type": "markdown",
   "metadata": {},
   "source": [
    "## FBTC"
   ]
  },
  {
   "cell_type": "code",
   "execution_count": null,
   "metadata": {},
   "outputs": [],
   "source": [
    "fbtc_soup = scrape_webpage(summary_urls['FBTC'][0])\n",
    "print(summary_urls['FBTC'][0])"
   ]
  },
  {
   "cell_type": "code",
   "execution_count": null,
   "metadata": {},
   "outputs": [],
   "source": [
    "fbtc_soup.find_all()"
   ]
  },
  {
   "cell_type": "code",
   "execution_count": null,
   "metadata": {},
   "outputs": [],
   "source": [
    "fbtc_holdings_soup=scrape_webpage(holdings_urls['FBTC'])"
   ]
  },
  {
   "cell_type": "markdown",
   "metadata": {},
   "source": [
    "## Result"
   ]
  },
  {
   "cell_type": "code",
   "execution_count": null,
   "metadata": {},
   "outputs": [],
   "source": [
    "pd.concat([ibit_info,arkb_info,brrr_info], axis=1)"
   ]
  },
  {
   "cell_type": "code",
   "execution_count": null,
   "metadata": {},
   "outputs": [],
   "source": [
    "import sqlite3\n",
    "from src.config import DB_DIR\n",
    "conn = sqlite3.connect(DB_DIR/'etf_holdings.db')"
   ]
  },
  {
   "cell_type": "code",
   "execution_count": null,
   "metadata": {},
   "outputs": [],
   "source": [
    "pd.concat([ibit_info,arkb_info,brrr_info], axis=1).T.reset_index().rename(columns={'index': 'etf_ticker'})\\\n",
    "    .assign(btc_holdings = lambda x: x['btc_holdings'].astype(float))\\\n",
    "    .assign(date=lambda x: pd.to_datetime(x['date'], format='mixed'))\\\n",
    "    .assign(date=lambda x: x['date'].dt.strftime('%Y-%m-%d'))\\\n",
    "    .to_sql('btc_etf_holdings', conn, if_exists='append', index=False)"
   ]
  },
  {
   "cell_type": "code",
   "execution_count": null,
   "metadata": {},
   "outputs": [],
   "source": [
    "pd.read_sql('select * from btc_etf_holdings', conn)"
   ]
  }
 ],
 "metadata": {
  "kernelspec": {
   "display_name": "newworld",
   "language": "python",
   "name": "python3"
  },
  "language_info": {
   "codemirror_mode": {
    "name": "ipython",
    "version": 3
   },
   "file_extension": ".py",
   "mimetype": "text/x-python",
   "name": "python",
   "nbconvert_exporter": "python",
   "pygments_lexer": "ipython3",
   "version": "3.10.9"
  }
 },
 "nbformat": 4,
 "nbformat_minor": 2
}
