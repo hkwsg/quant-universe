{
 "cells": [
  {
   "cell_type": "code",
   "execution_count": null,
   "metadata": {},
   "outputs": [],
   "source": [
    "import sys, os\n",
    "import itertools\n",
    "from pathlib import Path\n",
    "ROOT_DIR=Path(os.getcwd()).parent.parent\n",
    "sys.path.append(str(ROOT_DIR))\n",
    "\n",
    "from src.config import DB_DIR\n",
    "from src.data.equity_data.etf.holdings import get_ark_etf_holdings, scrape_webpage\n",
    "import src.data.equity_data.etf.btc_etf_holdings as BTC_ETF_Scraper\n",
    "\n",
    "import streamlit as st\n",
    "import plotly.express as px\n",
    "import sqlite3\n",
    "import datetime\n",
    "import pandas as pd"
   ]
  },
  {
   "cell_type": "code",
   "execution_count": null,
   "metadata": {},
   "outputs": [],
   "source": [
    "BTC_ETF_Scraper.get_holdings().set_index(['date','etf_ticker']).average_mv.unstack()"
   ]
  },
  {
   "cell_type": "code",
   "execution_count": null,
   "metadata": {},
   "outputs": [],
   "source": [
    "fig = px.bar(\n",
    "    BTC_ETF_Scraper.get_holdings().set_index(['date','etf_ticker'])\\\n",
    "        .btc_holdings.unstack().rename(pd.to_datetime)[['ARKB','IBIT','BRRR','BTCO','EZBC']]\\\n",
    "        .rename(columns={'ARKB': 'ARK 21Shares Bitcoin ETF', \n",
    "                         'IBIT': '贝莱德比特币ETF',\n",
    "                         'BRRR': 'Valkyrie Bitcoin ETF',\n",
    "                         'BTCO': 'Invesco Bitcoin ETF',\n",
    "                         'EZBC': '富兰克林比特币ETF'}),\n",
    "    barmode='stack',\n",
    "    color_discrete_sequence=['#FFD300','#FF0800','#00A86B','#0080FF','#AF69EF'],\n",
    "    template='plotly_dark'    \n",
    ")\n",
    "fig.update_layout(\n",
    "    #title=f'比特币ETF持仓量（截止 {datetime.date.today().isoformat()}）',\n",
    "    height=800, width=1200,\n",
    "    title=f'比特币ETF持仓量（截止 2024-1-16）',\n",
    "    xaxis_title='持仓日期',\n",
    "    yaxis_title='比特币持有量',\n",
    "    legend_title_text=None,\n",
    "    # place legends on the top right corner\n",
    "    legend=dict(\n",
    "        orientation=\"h\",\n",
    "        yanchor=\"bottom\",\n",
    "        y=1,\n",
    "        xanchor=\"left\",\n",
    "        x=0,\n",
    "    ),\n",
    "    # add annotations\n",
    "    annotations=[\n",
    "        dict(\n",
    "            x=-.05,\n",
    "            y=-0.1,\n",
    "            showarrow=False,\n",
    "            text=\"数据来源：ARK Invest, BlackRock, Valkyrie, Invesco, Franklin Templeton\",\n",
    "            xref=\"paper\",\n",
    "            yref=\"paper\",\n",
    "            font=dict(\n",
    "                size=12,\n",
    "                color=\"#ffffff\"\n",
    "            )\n",
    "        )\n",
    "    ]\n",
    ")\n",
    "\n"
   ]
  },
  {
   "cell_type": "code",
   "execution_count": null,
   "metadata": {},
   "outputs": [],
   "source": []
  }
 ],
 "metadata": {
  "kernelspec": {
   "display_name": "newworld",
   "language": "python",
   "name": "python3"
  },
  "language_info": {
   "codemirror_mode": {
    "name": "ipython",
    "version": 3
   },
   "file_extension": ".py",
   "mimetype": "text/x-python",
   "name": "python",
   "nbconvert_exporter": "python",
   "pygments_lexer": "ipython3",
   "version": "3.10.9"
  }
 },
 "nbformat": 4,
 "nbformat_minor": 2
}
