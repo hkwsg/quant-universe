{
 "cells": [
  {
   "cell_type": "code",
   "execution_count": 1,
   "metadata": {},
   "outputs": [],
   "source": [
    "# 给定一个可用的ETF持仓文件地址，返回文件内容\n",
    "def get_etf_holdings_text(url):\n",
    "    import requests\n",
    "    headers = {\n",
    "        'User-Agent': 'Mozilla/5.0 (Windows NT 10.0; Win64; x64) AppleWebKit/537.36 (KHTML, like Gecko) Chrome/58.0.3029.110 Safari/537.3'}\n",
    "    try:\n",
    "        response = requests.get(url, headers=headers)\n",
    "        if response.status_code == 200:\n",
    "            return response.content\n",
    "        else:\n",
    "            print(f\"Failed to download file: status code {response.status_code}\")\n",
    "            return \n",
    "\n",
    "    except Exception as e:\n",
    "        print(f\"An error occurred: {e}\")\n",
    "        return\n",
    "import requests\n",
    "from bs4 import BeautifulSoup\n",
    "\n",
    "def scrape_webpage(url):\n",
    "    headers = {\n",
    "        'User-Agent': 'Mozilla/5.0 (Windows NT 10.0; Win64; x64) AppleWebKit/537.36 (KHTML, like Gecko) Chrome/58.0.3029.110 Safari/537.3'}\n",
    "    response = requests.get(url, headers=headers)\n",
    "    if response.status_code != 200:\n",
    "        print(f\"Failed to download file: status code {response.status_code}\")\n",
    "        return\n",
    "    soup = BeautifulSoup(response.content, 'html.parser')\n",
    "    return soup"
   ]
  },
  {
   "cell_type": "code",
   "execution_count": null,
   "metadata": {},
   "outputs": [],
   "source": [
    "# Spot BTC ETFs\n",
    "{  \n",
    "    \"ARKB\": \"https://ark-funds.com/wp-content/uploads/funds-etf-csv/ARK_21SHARES_BITCOIN_ETF_ARKB_HOLDINGS.csv\",\n",
    "    'IBIT': \"https://www.ishares.com/us/products/333011/fund/1467271812596.ajax?fileType=csv&fileName=IBIT_holdings&dataType=fund\",\n",
    "    #'BLKC': \"https://www.invesco.com/us/financial-products/etfs/holdings/main/holdings/0?audienceType=Advisor&action=download&ticker=BLKC\",\n",
    "    \"BTCO\": \"https://www.invesco.com/us/financial-products/etfs/product-detail?ticker=BTCO\",\n",
    "    \"FBTC\": \"https://digital.fidelity.com/prgw/digital/research/quote/dashboard/summary?symbol=FBTC\",\n",
    "}\n",
    "brrr_url = \"https://valkyrieinvest.com/brrr-holdings/\"\n",
    "fbtc_url = \"https://digital.fidelity.com/prgw/digital/research/quote/dashboard/key-statistics?symbol=FBTC\"\n",
    "soup = scrape_webpage(brrr_url)\n",
    "# find all the table in soup\n",
    "divs = soup.find_all(\"div\")"
   ]
  }
 ],
 "metadata": {
  "kernelspec": {
   "display_name": "newworld",
   "language": "python",
   "name": "python3"
  },
  "language_info": {
   "codemirror_mode": {
    "name": "ipython",
    "version": 3
   },
   "file_extension": ".py",
   "mimetype": "text/x-python",
   "name": "python",
   "nbconvert_exporter": "python",
   "pygments_lexer": "ipython3",
   "version": "3.10.9"
  }
 },
 "nbformat": 4,
 "nbformat_minor": 2
}
