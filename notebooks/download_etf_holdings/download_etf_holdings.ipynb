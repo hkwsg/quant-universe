{
 "cells": [
  {
   "cell_type": "markdown",
   "metadata": {},
   "source": [
    "### 获取持仓信息"
   ]
  },
  {
   "cell_type": "code",
   "execution_count": null,
   "metadata": {},
   "outputs": [],
   "source": [
    "# 给定一个可用的ETF持仓文件地址，返回文件内容\n",
    "def get_etf_holdings_text(url):\n",
    "    import requests\n",
    "    headers = {\n",
    "        'User-Agent': 'Mozilla/5.0 (Windows NT 10.0; Win64; x64) AppleWebKit/537.36 (KHTML, like Gecko) Chrome/58.0.3029.110 Safari/537.3'}\n",
    "    try:\n",
    "        response = requests.get(url, headers=headers)\n",
    "        if response.status_code == 200:\n",
    "            return response.content\n",
    "        else:\n",
    "            print(f\"Failed to download file: status code {response.status_code}\")\n",
    "            return \n",
    "\n",
    "    except Exception as e:\n",
    "        print(f\"An error occurred: {e}\")\n",
    "        return"
   ]
  },
  {
   "cell_type": "markdown",
   "metadata": {},
   "source": [
    "### 准备下载地址"
   ]
  },
  {
   "cell_type": "code",
   "execution_count": null,
   "metadata": {},
   "outputs": [],
   "source": [
    "# 构建 Direction ETF的所有代码集，以及对应的下载地址\n",
    "direxion_etfs = {\n",
    "    \"Daily Bull & Bear 3X ETFs\": [\"MIDU\", \"TNA\", \"TZA\", \"SPXL\", \"SPXS\", \"YINN\", \"YANG\", \"EURL\", \"EDC\", \"EDZ\", \"MEXX\", \"KORU\", \"TYD\", \"TYO\", \"TMF\", \"TMV\", \"WEBL\", \"WEBS\", \"HIBL\", \"HIBS\", \"LABU\", \"LABD\", \"FAS\", \"FAZ\", \"CURE\", \"NAIL\", \"DRN\", \"DRV\", \"DPST\", \"RETL\", \"SOXL\", \"SOXS\"],\n",
    "    \"Daily Bull & Bear 2X ETFs\": [\"BRZU\", \"CHAU\", \"CWEB\", \"ERX\", \"ERY\", \"GUSH\", \"DRIP\", \"INDL\", \"JNUG\", \"JDST\", \"NUGT\", \"DUST\", \"SPUU\", \"UBOT\", \"CLDL\", \"OOTO\", \"KLNE\", \"FNGG\", \"EVAV\"],\n",
    "    \"Daily Bear 1X ETFs\": [\"SPDN\"],\n",
    "    \"Single Stock ETFs\": [\"AAPU\", \"AAPD\", \"TSLL\", \"TSLS\", \"AMZU\", \"AMZD\", \"GGLL\", \"GGLS\", \"MSFU\", \"MSFD\", \"NVDU\", \"NVDD\"],\n",
    "    \"Actively Managed Tactical ETFs\": [\"HCMT\"],\n",
    "    \"Non-Leveraged ETFs\": [\"COM\", \"HJEN\", \"MOON\", \"QQQE\", \"WFH\"]\n",
    "}\n",
    "direxion_etfs_all = []\n",
    "for k,v in direxion_etfs.items():\n",
    "    direxion_etfs_all += v\n",
    "\n",
    "direxion_etfs_urls = {x: f\"https://www.direxion.com/holdings/{x}.csv\" for x in direxion_etfs_all}"
   ]
  },
  {
   "cell_type": "code",
   "execution_count": null,
   "metadata": {},
   "outputs": [],
   "source": [
    "# 构建ARK ETF的所有代码集，以及对应的下载地址\n",
    "ark_etfs_urls = {\n",
    "    \"ARKK\": \"https://ark-funds.com/wp-content/uploads/funds-etf-csv/ARK_INNOVATION_ETF_ARKK_HOLDINGS.csv\",\n",
    "    \"ARKW\": \"https://ark-funds.com/wp-content/uploads/funds-etf-csv/ARK_NEXT_GENERATION_INTERNET_ETF_ARKW_HOLDINGS.csv\",\n",
    "    \"ARKQ\": \"https://ark-funds.com/wp-content/uploads/funds-etf-csv/ARK_AUTONOMOUS_TECH._&_ROBOTICS_ETF_ARKQ_HOLDINGS.csv\",\n",
    "    \"ARKG\": \"https://ark-funds.com/wp-content/uploads/funds-etf-csv/ARK_GENOMIC_REVOLUTION_ETF_ARKG_HOLDINGS.csv\",\n",
    "    \"ARKF\": \"https://ark-funds.com/wp-content/uploads/funds-etf-csv/ARK_FINTECH_INNOVATION_ETF_ARKF_HOLDINGS.csv\",\n",
    "    \"ARKX\": \"https://ark-funds.com/wp-content/uploads/funds-etf-csv/ARK_SPACE_EXPLORATION_&_INNOVATION_ETF_ARKX_HOLDINGS.csv\",\n",
    "}"
   ]
  },
  {
   "cell_type": "markdown",
   "metadata": {},
   "source": [
    "### 根据每家ETF持仓文件的格式，清理数据并写入数据库"
   ]
  },
  {
   "cell_type": "code",
   "execution_count": null,
   "metadata": {},
   "outputs": [],
   "source": [
    "from tqdm import tqdm\n",
    "holdings_data = {}\n",
    "etf_urls = {**direxion_etfs_urls, **ark_etfs_urls}\n",
    "for tic, url in tqdm(etf_urls.items()):\n",
    "    holdings_data[tic] = get_etf_holdings_text(url)"
   ]
  },
  {
   "cell_type": "code",
   "execution_count": null,
   "metadata": {},
   "outputs": [],
   "source": [
    "import io\n",
    "import pandas as pd\n",
    "holdings_csv = {}\n",
    "for tic, text in tqdm(holdings_data.items()):\n",
    "    if tic in ark_etfs_urls:\n",
    "        try:\n",
    "            df = pd.read_csv(io.StringIO(text.decode('utf-8'))).iloc[:-1,:]\n",
    "            df['date'] = df['date'].apply(pd.to_datetime).apply(lambda dt: dt.date().isoformat())\n",
    "            ark_renamer = {\n",
    "                'date':'date',\n",
    "                'fund':'etf_ticker',\n",
    "                'company':'security_name',\n",
    "                'ticker':'ticker',\n",
    "                'cusip':'cusip',\n",
    "                'shares':'shares',\n",
    "                'market value ($)':'market_value',\n",
    "                'weight (%)':'weight'\n",
    "            }\n",
    "            df.rename(columns=ark_renamer,inplace=True)\n",
    "            df['weight'] = df['weight'].apply(lambda x: float(x[:-1])/100)\n",
    "            df['shares'] = df['shares'].apply(lambda x: int(x.replace(',','')))\n",
    "            df['market_value'] = df['market_value'].apply(lambda x: float(x.replace(',','').replace('$','')))\n",
    "            holdings_csv[tic] = df\n",
    "        except:\n",
    "            print(f\"Failed to parse {tic}\")\n",
    "    elif tic in direxion_etfs_all:\n",
    "        try:\n",
    "            df = pd.read_csv(io.StringIO(text.decode('utf-8')),skiprows=5)\n",
    "            df['date'] = df['TradeDate'].apply(lambda dt: dt.split(' ')[0]).apply(pd.to_datetime).apply(lambda dt: dt.date().isoformat())\n",
    "            direxion_renamer = {\n",
    "                'AccountTicker':'etf_ticker',\n",
    "                'StockTicker':'ticker',\n",
    "                'SecurityDescription':'security_name',\n",
    "                'Shares':'shares',\n",
    "                'Price': 'price',\n",
    "                'MarketValue':'market_value',\n",
    "                'Cusip': 'cusip',\n",
    "                'HoldingsPercent': 'weight'\n",
    "            }\n",
    "            df.rename(columns=direxion_renamer,inplace=True)\n",
    "            df['weight'] = df['weight'].apply(lambda x: x/100)\n",
    "            holdings_csv[tic] = df.drop(columns=['TradeDate'])\n",
    "        except:\n",
    "            print(f\"Failed to parse {tic}\")"
   ]
  },
  {
   "cell_type": "code",
   "execution_count": null,
   "metadata": {},
   "outputs": [],
   "source": [
    "import sqlite3\n",
    "import datetime\n",
    "import os\n",
    "try:\n",
    "    os.remove('etf_holdings.db')\n",
    "except:\n",
    "    pass\n",
    "\n",
    "# 写入数据库\n",
    "conn = sqlite3.connect('etf_holdings.db')\n",
    "pd.concat([df for df in holdings_csv.values()])\\\n",
    "    .assign(update_datetime=datetime.datetime.now().isoformat())\\\n",
    "    .to_sql('etf_holdings',conn,if_exists='append',index=False)"
   ]
  },
  {
   "cell_type": "code",
   "execution_count": null,
   "metadata": {},
   "outputs": [],
   "source": [
    "# 测试\n",
    "conn = sqlite3.connect('etf_holdings.db')\n",
    "query = \"\"\"\n",
    "select etf_ticker, date, count(ticker) as number_of_tickers, count(cusip) as number_of_cusips\n",
    "from etf_holdings\n",
    "group by etf_ticker, date\n",
    "\"\"\"\n",
    "df=pd.read_sql(query,conn)\n",
    "conn.close()\n",
    "\n",
    "df"
   ]
  },
  {
   "cell_type": "code",
   "execution_count": null,
   "metadata": {},
   "outputs": [],
   "source": []
  }
 ],
 "metadata": {
  "kernelspec": {
   "display_name": "quant-gpt",
   "language": "python",
   "name": "python3"
  },
  "language_info": {
   "codemirror_mode": {
    "name": "ipython",
    "version": 3
   },
   "file_extension": ".py",
   "mimetype": "text/x-python",
   "name": "python",
   "nbconvert_exporter": "python",
   "pygments_lexer": "ipython3",
   "version": "3.10.9"
  }
 },
 "nbformat": 4,
 "nbformat_minor": 2
}
