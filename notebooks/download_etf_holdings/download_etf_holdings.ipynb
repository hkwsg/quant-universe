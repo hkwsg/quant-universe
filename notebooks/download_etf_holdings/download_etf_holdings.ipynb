{
 "cells": [
  {
   "cell_type": "markdown",
   "metadata": {},
   "source": [
    "### 获取持仓信息"
   ]
  },
  {
   "cell_type": "code",
   "execution_count": 3,
   "metadata": {},
   "outputs": [],
   "source": [
    "# 给定一个可用的ETF持仓文件地址，返回文件内容\n",
    "def get_etf_holdings_text(url):\n",
    "    import requests\n",
    "    headers = {\n",
    "        'User-Agent': 'Mozilla/5.0 (Windows NT 10.0; Win64; x64) AppleWebKit/537.36 (KHTML, like Gecko) Chrome/58.0.3029.110 Safari/537.3'}\n",
    "    try:\n",
    "        response = requests.get(url, headers=headers)\n",
    "        if response.status_code == 200:\n",
    "            return response.content\n",
    "        else:\n",
    "            print(f\"Failed to download file: status code {response.status_code}\")\n",
    "            return \n",
    "\n",
    "    except Exception as e:\n",
    "        print(f\"An error occurred: {e}\")\n",
    "        return"
   ]
  },
  {
   "cell_type": "markdown",
   "metadata": {},
   "source": [
    "### 准备下载地址"
   ]
  },
  {
   "cell_type": "code",
   "execution_count": 4,
   "metadata": {},
   "outputs": [],
   "source": [
    "# 构建 Direction ETF的所有代码集，以及对应的下载地址\n",
    "direxion_etfs = {\n",
    "    \"Daily Bull & Bear 3X ETFs\": [\"MIDU\", \"TNA\", \"TZA\", \"SPXL\", \"SPXS\", \"YINN\", \"YANG\", \"EURL\", \"EDC\", \"EDZ\", \"MEXX\", \"KORU\", \"TYD\", \"TYO\", \"TMF\", \"TMV\", \"WEBL\", \"WEBS\", \"HIBL\", \"HIBS\", \"LABU\", \"LABD\", \"FAS\", \"FAZ\", \"CURE\", \"NAIL\", \"DRN\", \"DRV\", \"DPST\", \"RETL\", \"SOXL\", \"SOXS\"],\n",
    "    \"Daily Bull & Bear 2X ETFs\": [\"BRZU\", \"CHAU\", \"CWEB\", \"ERX\", \"ERY\", \"GUSH\", \"DRIP\", \"INDL\", \"JNUG\", \"JDST\", \"NUGT\", \"DUST\", \"SPUU\", \"UBOT\", \"CLDL\", \"OOTO\", \"KLNE\", \"FNGG\", \"EVAV\"],\n",
    "    \"Daily Bear 1X ETFs\": [\"SPDN\"],\n",
    "    \"Single Stock ETFs\": [\"AAPU\", \"AAPD\", \"TSLL\", \"TSLS\", \"AMZU\", \"AMZD\", \"GGLL\", \"GGLS\", \"MSFU\", \"MSFD\", \"NVDU\", \"NVDD\"],\n",
    "    \"Actively Managed Tactical ETFs\": [\"HCMT\"],\n",
    "    \"Non-Leveraged ETFs\": [\"COM\", \"HJEN\", \"MOON\", \"QQQE\", \"WFH\"]\n",
    "}\n",
    "direxion_etfs_all = []\n",
    "for k,v in direxion_etfs.items():\n",
    "    direxion_etfs_all += v\n",
    "\n",
    "direxion_etfs_urls = {x: f\"https://www.direxion.com/holdings/{x}.csv\" for x in direxion_etfs_all}"
   ]
  },
  {
   "cell_type": "code",
   "execution_count": 5,
   "metadata": {},
   "outputs": [],
   "source": [
    "# 构建ARK ETF的所有代码集，以及对应的下载地址\n",
    "ark_etfs_urls = {\n",
    "    \"ARKK\": \"https://ark-funds.com/wp-content/uploads/funds-etf-csv/ARK_INNOVATION_ETF_ARKK_HOLDINGS.csv\",\n",
    "    \"ARKW\": \"https://ark-funds.com/wp-content/uploads/funds-etf-csv/ARK_NEXT_GENERATION_INTERNET_ETF_ARKW_HOLDINGS.csv\",\n",
    "    \"ARKQ\": \"https://ark-funds.com/wp-content/uploads/funds-etf-csv/ARK_AUTONOMOUS_TECH._&_ROBOTICS_ETF_ARKQ_HOLDINGS.csv\",\n",
    "    \"ARKG\": \"https://ark-funds.com/wp-content/uploads/funds-etf-csv/ARK_GENOMIC_REVOLUTION_ETF_ARKG_HOLDINGS.csv\",\n",
    "    \"ARKF\": \"https://ark-funds.com/wp-content/uploads/funds-etf-csv/ARK_FINTECH_INNOVATION_ETF_ARKF_HOLDINGS.csv\",\n",
    "    \"ARKX\": \"https://ark-funds.com/wp-content/uploads/funds-etf-csv/ARK_SPACE_EXPLORATION_&_INNOVATION_ETF_ARKX_HOLDINGS.csv\",\n",
    "    \"ARKB\": \"https://ark-funds.com/wp-content/uploads/funds-etf-csv/ARK_21SHARES_BITCOIN_ETF_ARKB_HOLDINGS.csv\"\n",
    "}"
   ]
  },
  {
   "cell_type": "markdown",
   "metadata": {},
   "source": [
    "### 根据每家ETF持仓文件的格式，清理数据并写入数据库"
   ]
  },
  {
   "cell_type": "code",
   "execution_count": 6,
   "metadata": {},
   "outputs": [
    {
     "name": "stderr",
     "output_type": "stream",
     "text": [
      "  0%|          | 0/77 [00:00<?, ?it/s]"
     ]
    },
    {
     "name": "stderr",
     "output_type": "stream",
     "text": [
      "100%|██████████| 77/77 [00:38<00:00,  1.99it/s]\n"
     ]
    }
   ],
   "source": [
    "from tqdm import tqdm\n",
    "holdings_data = {}\n",
    "etf_urls = {**direxion_etfs_urls, **ark_etfs_urls}\n",
    "for tic, url in tqdm(etf_urls.items()):\n",
    "    holdings_data[tic] = get_etf_holdings_text(url)"
   ]
  },
  {
   "cell_type": "code",
   "execution_count": 14,
   "metadata": {},
   "outputs": [
    {
     "name": "stderr",
     "output_type": "stream",
     "text": [
      "100%|██████████| 77/77 [00:00<00:00, 197.90it/s]\n"
     ]
    }
   ],
   "source": [
    "import io\n",
    "import pandas as pd\n",
    "holdings_csv = {}\n",
    "for tic, text in tqdm(holdings_data.items()):\n",
    "    if tic in ark_etfs_urls:\n",
    "        try:\n",
    "            df = pd.read_csv(io.StringIO(text.decode('utf-8'))).iloc[:-1,:]\n",
    "            df['date'] = df['date'].apply(pd.to_datetime).apply(lambda dt: dt.date().isoformat())\n",
    "            ark_renamer = {\n",
    "                'date':'date',\n",
    "                'fund':'etf_ticker',\n",
    "                'company':'security_name',\n",
    "                'ticker':'ticker',\n",
    "                'cusip':'cusip',\n",
    "                'shares':'shares',\n",
    "                'market value ($)':'market_value',\n",
    "                'weight (%)':'weight'\n",
    "            }\n",
    "            df.rename(columns=ark_renamer,inplace=True)\n",
    "            df['weight'] = df['weight'].apply(lambda x: float(x[:-1])/100)\n",
    "            df['shares'] = df['shares'].apply(lambda x: int(x.replace(',','')))\n",
    "            df['market_value'] = df['market_value'].apply(lambda x: float(x.replace(',','').replace('$','')))\n",
    "            holdings_csv[tic] = df\n",
    "        except:\n",
    "            print(f\"Failed to parse {tic}\")\n",
    "    elif tic in direxion_etfs_all:\n",
    "        try:\n",
    "            df = pd.read_csv(io.StringIO(text.decode('utf-8')),skiprows=5)\n",
    "            df['date'] = df['TradeDate'].apply(lambda dt: dt.split(' ')[0]).apply(pd.to_datetime).apply(lambda dt: dt.date().isoformat())\n",
    "            direxion_renamer = {\n",
    "                'AccountTicker':'etf_ticker',\n",
    "                'StockTicker':'ticker',\n",
    "                'SecurityDescription':'security_name',\n",
    "                'Shares':'shares',\n",
    "                'Price': 'price',\n",
    "                'MarketValue':'market_value',\n",
    "                'Cusip': 'cusip',\n",
    "                'HoldingsPercent': 'weight'\n",
    "            }\n",
    "            df.rename(columns=direxion_renamer,inplace=True)\n",
    "            df['weight'] = df['weight'].apply(lambda x: x/100)\n",
    "            holdings_csv[tic] = df.drop(columns=['TradeDate'])\n",
    "        except:\n",
    "            print(f\"Failed to parse {tic}\")"
   ]
  },
  {
   "cell_type": "code",
   "execution_count": 8,
   "metadata": {},
   "outputs": [
    {
     "data": {
      "text/plain": [
       "3393"
      ]
     },
     "execution_count": 8,
     "metadata": {},
     "output_type": "execute_result"
    }
   ],
   "source": [
    "import sqlite3\n",
    "import datetime\n",
    "import os\n",
    "try:\n",
    "    os.remove('etf_holdings.db')\n",
    "except:\n",
    "    pass\n",
    "\n",
    "# 写入数据库\n",
    "conn = sqlite3.connect('etf_holdings.db')\n",
    "pd.concat([df for df in holdings_csv.values()])\\\n",
    "    .assign(update_datetime=datetime.datetime.now().isoformat())\\\n",
    "    .to_sql('etf_holdings',conn,if_exists='append',index=False)"
   ]
  },
  {
   "cell_type": "code",
   "execution_count": 9,
   "metadata": {},
   "outputs": [
    {
     "data": {
      "text/html": [
       "<div>\n",
       "<style scoped>\n",
       "    .dataframe tbody tr th:only-of-type {\n",
       "        vertical-align: middle;\n",
       "    }\n",
       "\n",
       "    .dataframe tbody tr th {\n",
       "        vertical-align: top;\n",
       "    }\n",
       "\n",
       "    .dataframe thead th {\n",
       "        text-align: right;\n",
       "    }\n",
       "</style>\n",
       "<table border=\"1\" class=\"dataframe\">\n",
       "  <thead>\n",
       "    <tr style=\"text-align: right;\">\n",
       "      <th></th>\n",
       "      <th>etf_ticker</th>\n",
       "      <th>date</th>\n",
       "      <th>number_of_tickers</th>\n",
       "      <th>number_of_cusips</th>\n",
       "    </tr>\n",
       "  </thead>\n",
       "  <tbody>\n",
       "    <tr>\n",
       "      <th>0</th>\n",
       "      <td>AAPD</td>\n",
       "      <td>2024-01-12</td>\n",
       "      <td>0</td>\n",
       "      <td>7</td>\n",
       "    </tr>\n",
       "    <tr>\n",
       "      <th>1</th>\n",
       "      <td>AAPU</td>\n",
       "      <td>2024-01-12</td>\n",
       "      <td>1</td>\n",
       "      <td>8</td>\n",
       "    </tr>\n",
       "    <tr>\n",
       "      <th>2</th>\n",
       "      <td>AMZD</td>\n",
       "      <td>2024-01-12</td>\n",
       "      <td>0</td>\n",
       "      <td>6</td>\n",
       "    </tr>\n",
       "    <tr>\n",
       "      <th>3</th>\n",
       "      <td>AMZU</td>\n",
       "      <td>2024-01-12</td>\n",
       "      <td>1</td>\n",
       "      <td>7</td>\n",
       "    </tr>\n",
       "    <tr>\n",
       "      <th>4</th>\n",
       "      <td>ARKB</td>\n",
       "      <td>2024-01-12</td>\n",
       "      <td>1</td>\n",
       "      <td>1</td>\n",
       "    </tr>\n",
       "    <tr>\n",
       "      <th>...</th>\n",
       "      <td>...</td>\n",
       "      <td>...</td>\n",
       "      <td>...</td>\n",
       "      <td>...</td>\n",
       "    </tr>\n",
       "    <tr>\n",
       "      <th>72</th>\n",
       "      <td>WEBL</td>\n",
       "      <td>2024-01-12</td>\n",
       "      <td>41</td>\n",
       "      <td>47</td>\n",
       "    </tr>\n",
       "    <tr>\n",
       "      <th>73</th>\n",
       "      <td>WEBS</td>\n",
       "      <td>2024-01-12</td>\n",
       "      <td>0</td>\n",
       "      <td>6</td>\n",
       "    </tr>\n",
       "    <tr>\n",
       "      <th>74</th>\n",
       "      <td>WFH</td>\n",
       "      <td>2024-01-12</td>\n",
       "      <td>39</td>\n",
       "      <td>40</td>\n",
       "    </tr>\n",
       "    <tr>\n",
       "      <th>75</th>\n",
       "      <td>YANG</td>\n",
       "      <td>2024-01-12</td>\n",
       "      <td>0</td>\n",
       "      <td>5</td>\n",
       "    </tr>\n",
       "    <tr>\n",
       "      <th>76</th>\n",
       "      <td>YINN</td>\n",
       "      <td>2024-01-12</td>\n",
       "      <td>1</td>\n",
       "      <td>11</td>\n",
       "    </tr>\n",
       "  </tbody>\n",
       "</table>\n",
       "<p>77 rows × 4 columns</p>\n",
       "</div>"
      ],
      "text/plain": [
       "   etf_ticker        date  number_of_tickers  number_of_cusips\n",
       "0        AAPD  2024-01-12                  0                 7\n",
       "1        AAPU  2024-01-12                  1                 8\n",
       "2        AMZD  2024-01-12                  0                 6\n",
       "3        AMZU  2024-01-12                  1                 7\n",
       "4        ARKB  2024-01-12                  1                 1\n",
       "..        ...         ...                ...               ...\n",
       "72       WEBL  2024-01-12                 41                47\n",
       "73       WEBS  2024-01-12                  0                 6\n",
       "74        WFH  2024-01-12                 39                40\n",
       "75       YANG  2024-01-12                  0                 5\n",
       "76       YINN  2024-01-12                  1                11\n",
       "\n",
       "[77 rows x 4 columns]"
      ]
     },
     "execution_count": 9,
     "metadata": {},
     "output_type": "execute_result"
    }
   ],
   "source": [
    "# 测试\n",
    "conn = sqlite3.connect('etf_holdings.db')\n",
    "query = \"\"\"\n",
    "select etf_ticker, date, count(ticker) as number_of_tickers, count(cusip) as number_of_cusips\n",
    "from etf_holdings\n",
    "group by etf_ticker, date\n",
    "\"\"\"\n",
    "df=pd.read_sql(query,conn)\n",
    "conn.close()\n",
    "\n",
    "df"
   ]
  },
  {
   "cell_type": "code",
   "execution_count": 15,
   "metadata": {},
   "outputs": [
    {
     "data": {
      "text/html": [
       "<div>\n",
       "<style scoped>\n",
       "    .dataframe tbody tr th:only-of-type {\n",
       "        vertical-align: middle;\n",
       "    }\n",
       "\n",
       "    .dataframe tbody tr th {\n",
       "        vertical-align: top;\n",
       "    }\n",
       "\n",
       "    .dataframe thead th {\n",
       "        text-align: right;\n",
       "    }\n",
       "</style>\n",
       "<table border=\"1\" class=\"dataframe\">\n",
       "  <thead>\n",
       "    <tr style=\"text-align: right;\">\n",
       "      <th></th>\n",
       "      <th>etf_ticker</th>\n",
       "      <th>ticker</th>\n",
       "      <th>security_name</th>\n",
       "      <th>shares</th>\n",
       "      <th>price</th>\n",
       "      <th>market_value</th>\n",
       "      <th>cusip</th>\n",
       "      <th>weight</th>\n",
       "      <th>date</th>\n",
       "      <th>update_datetime</th>\n",
       "    </tr>\n",
       "  </thead>\n",
       "  <tbody>\n",
       "    <tr>\n",
       "      <th>0</th>\n",
       "      <td>ARKB</td>\n",
       "      <td>BTC</td>\n",
       "      <td>BITCOIN</td>\n",
       "      <td>1625.0</td>\n",
       "      <td>None</td>\n",
       "      <td>75833696.25</td>\n",
       "      <td>ARKBTCUSD</td>\n",
       "      <td>1.0</td>\n",
       "      <td>2024-01-12</td>\n",
       "      <td>2024-01-12T16:21:39.960904</td>\n",
       "    </tr>\n",
       "  </tbody>\n",
       "</table>\n",
       "</div>"
      ],
      "text/plain": [
       "  etf_ticker ticker security_name  shares price  market_value      cusip  \\\n",
       "0       ARKB    BTC       BITCOIN  1625.0  None   75833696.25  ARKBTCUSD   \n",
       "\n",
       "   weight        date             update_datetime  \n",
       "0     1.0  2024-01-12  2024-01-12T16:21:39.960904  "
      ]
     },
     "execution_count": 15,
     "metadata": {},
     "output_type": "execute_result"
    }
   ],
   "source": [
    "import sqlite3\n",
    "import datetime\n",
    "import pandas as pd\n",
    "conn = sqlite3.connect('etf_holdings.db')\n",
    "query = \"\"\"\n",
    "select *\n",
    "from etf_holdings\n",
    "where etf_ticker = 'ARKB'\n",
    "\"\"\"\n",
    "df=pd.read_sql(query,conn)\n",
    "conn.close()\n",
    "\n"
   ]
  },
  {
   "cell_type": "code",
   "execution_count": 10,
   "metadata": {},
   "outputs": [
    {
     "data": {
      "text/html": [
       "<div>\n",
       "<style scoped>\n",
       "    .dataframe tbody tr th:only-of-type {\n",
       "        vertical-align: middle;\n",
       "    }\n",
       "\n",
       "    .dataframe tbody tr th {\n",
       "        vertical-align: top;\n",
       "    }\n",
       "\n",
       "    .dataframe thead th {\n",
       "        text-align: right;\n",
       "    }\n",
       "</style>\n",
       "<table border=\"1\" class=\"dataframe\">\n",
       "  <thead>\n",
       "    <tr style=\"text-align: right;\">\n",
       "      <th></th>\n",
       "      <th>security_name</th>\n",
       "      <th>weight</th>\n",
       "    </tr>\n",
       "  </thead>\n",
       "  <tbody>\n",
       "    <tr>\n",
       "      <th>0</th>\n",
       "      <td>4D MOLECULAR THERAPEUTICS IN</td>\n",
       "      <td>0.151295</td>\n",
       "    </tr>\n",
       "    <tr>\n",
       "      <th>1</th>\n",
       "      <td>89BIO INC</td>\n",
       "      <td>0.477281</td>\n",
       "    </tr>\n",
       "    <tr>\n",
       "      <th>2</th>\n",
       "      <td>ABBVIE INC</td>\n",
       "      <td>0.927946</td>\n",
       "    </tr>\n",
       "    <tr>\n",
       "      <th>3</th>\n",
       "      <td>ACADIA PHARMACEUTICALS INC</td>\n",
       "      <td>1.160768</td>\n",
       "    </tr>\n",
       "    <tr>\n",
       "      <th>4</th>\n",
       "      <td>ACHILLION PHAM CONTINGENT VALUE RIGHT</td>\n",
       "      <td>0.000000</td>\n",
       "    </tr>\n",
       "    <tr>\n",
       "      <th>...</th>\n",
       "      <td>...</td>\n",
       "      <td>...</td>\n",
       "    </tr>\n",
       "    <tr>\n",
       "      <th>130</th>\n",
       "      <td>VIKING THERAPEUTICS INC</td>\n",
       "      <td>0.818559</td>\n",
       "    </tr>\n",
       "    <tr>\n",
       "      <th>131</th>\n",
       "      <td>VIR BIOTECHNOLOGY INC</td>\n",
       "      <td>0.388543</td>\n",
       "    </tr>\n",
       "    <tr>\n",
       "      <th>132</th>\n",
       "      <td>VIRIDIAN THERAPEUTICS INC</td>\n",
       "      <td>0.435032</td>\n",
       "    </tr>\n",
       "    <tr>\n",
       "      <th>133</th>\n",
       "      <td>XENCOR INC</td>\n",
       "      <td>0.230444</td>\n",
       "    </tr>\n",
       "    <tr>\n",
       "      <th>134</th>\n",
       "      <td>ZENTALIS PHARMACEUTICALS INC</td>\n",
       "      <td>0.470779</td>\n",
       "    </tr>\n",
       "  </tbody>\n",
       "</table>\n",
       "<p>135 rows × 2 columns</p>\n",
       "</div>"
      ],
      "text/plain": [
       "                             security_name    weight\n",
       "0             4D MOLECULAR THERAPEUTICS IN  0.151295\n",
       "1                                89BIO INC  0.477281\n",
       "2                               ABBVIE INC  0.927946\n",
       "3               ACADIA PHARMACEUTICALS INC  1.160768\n",
       "4    ACHILLION PHAM CONTINGENT VALUE RIGHT  0.000000\n",
       "..                                     ...       ...\n",
       "130                VIKING THERAPEUTICS INC  0.818559\n",
       "131                  VIR BIOTECHNOLOGY INC  0.388543\n",
       "132              VIRIDIAN THERAPEUTICS INC  0.435032\n",
       "133                             XENCOR INC  0.230444\n",
       "134           ZENTALIS PHARMACEUTICALS INC  0.470779\n",
       "\n",
       "[135 rows x 2 columns]"
      ]
     },
     "execution_count": 10,
     "metadata": {},
     "output_type": "execute_result"
    }
   ],
   "source": [
    "import sqlite3\n",
    "import datetime\n",
    "import pandas as pd\n",
    "conn = sqlite3.connect('etf_holdings.db')\n",
    "query = \"\"\"\n",
    "select *\n",
    "from etf_holdings\n",
    "where etf_ticker = 'LABU'\n",
    "\"\"\"\n",
    "df=pd.read_sql(query,conn)\n",
    "conn.close()\n",
    "\n",
    "df[['security_name','weight']].assign(weight=lambda x: x['weight']*100)"
   ]
  },
  {
   "cell_type": "code",
   "execution_count": 11,
   "metadata": {},
   "outputs": [
    {
     "data": {
      "text/plain": [
       "ticker\n",
       "FDMT    4D MOLECULAR THERAPEUTICS IN\n",
       "ETNB                       89BIO INC\n",
       "ABBV                      ABBVIE INC\n",
       "ACAD      ACADIA PHARMACEUTICALS INC\n",
       "ADMA              ADMA BIOLOGICS INC\n",
       "                    ...             \n",
       "VKTX         VIKING THERAPEUTICS INC\n",
       "VIR            VIR BIOTECHNOLOGY INC\n",
       "VRDN       VIRIDIAN THERAPEUTICS INC\n",
       "XNCR                      XENCOR INC\n",
       "ZNTL    ZENTALIS PHARMACEUTICALS INC\n",
       "Name: security_name, Length: 123, dtype: object"
      ]
     },
     "execution_count": 11,
     "metadata": {},
     "output_type": "execute_result"
    }
   ],
   "source": [
    "df[~df.ticker.isna()].set_index('ticker').security_name"
   ]
  },
  {
   "cell_type": "code",
   "execution_count": 12,
   "metadata": {},
   "outputs": [],
   "source": [
    "#df[df.ticker.isna()]"
   ]
  },
  {
   "cell_type": "code",
   "execution_count": 13,
   "metadata": {},
   "outputs": [],
   "source": [
    "# add root path to sys.path\n",
    "import os\n",
    "import sys\n",
    "from pathlib import Path\n",
    "ROOT_DIR = Path(os.getcwd()).parent.parent\n",
    "if not str(ROOT_DIR) in sys.path:\n",
    "    sys.path.append(str(ROOT_DIR))"
   ]
  },
  {
   "cell_type": "code",
   "execution_count": 23,
   "metadata": {},
   "outputs": [],
   "source": [
    "us_data_dir = ROOT_DIR / 'data' / 'equity_market' / '3_tradingview' / 'raw'"
   ]
  },
  {
   "cell_type": "code",
   "execution_count": null,
   "metadata": {},
   "outputs": [],
   "source": [
    "date_of_analysis = '2024-01-09'\n"
   ]
  }
 ],
 "metadata": {
  "kernelspec": {
   "display_name": "quant-gpt",
   "language": "python",
   "name": "python3"
  },
  "language_info": {
   "codemirror_mode": {
    "name": "ipython",
    "version": 3
   },
   "file_extension": ".py",
   "mimetype": "text/x-python",
   "name": "python",
   "nbconvert_exporter": "python",
   "pygments_lexer": "ipython3",
   "version": "3.10.13"
  }
 },
 "nbformat": 4,
 "nbformat_minor": 2
}
