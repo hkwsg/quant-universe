{
 "cells": [
  {
   "cell_type": "markdown",
   "metadata": {},
   "source": [
    "### 获取持仓信息"
   ]
  },
  {
   "cell_type": "code",
   "execution_count": 1,
   "metadata": {},
   "outputs": [],
   "source": [
    "# 给定一个可用的ETF持仓文件地址，返回文件内容\n",
    "def get_etf_holdings_text(url):\n",
    "    import requests\n",
    "    headers = {\n",
    "        'User-Agent': 'Mozilla/5.0 (Windows NT 10.0; Win64; x64) AppleWebKit/537.36 (KHTML, like Gecko) Chrome/58.0.3029.110 Safari/537.3'}\n",
    "    try:\n",
    "        response = requests.get(url, headers=headers)\n",
    "        if response.status_code == 200:\n",
    "            return response.content\n",
    "        else:\n",
    "            print(f\"Failed to download file: status code {response.status_code}\")\n",
    "            return \n",
    "\n",
    "    except Exception as e:\n",
    "        print(f\"An error occurred: {e}\")\n",
    "        return"
   ]
  },
  {
   "cell_type": "markdown",
   "metadata": {},
   "source": [
    "### 准备下载地址"
   ]
  },
  {
   "cell_type": "code",
   "execution_count": 2,
   "metadata": {},
   "outputs": [],
   "source": [
    "# 构建 Direction ETF的所有代码集，以及对应的下载地址\n",
    "direxion_etfs = {\n",
    "    \"Daily Bull & Bear 3X ETFs\": [\"MIDU\", \"TNA\", \"TZA\", \"SPXL\", \"SPXS\", \"YINN\", \"YANG\", \"EURL\", \"EDC\", \"EDZ\", \"MEXX\", \"KORU\", \"TYD\", \"TYO\", \"TMF\", \"TMV\", \"WEBL\", \"WEBS\", \"HIBL\", \"HIBS\", \"LABU\", \"LABD\", \"FAS\", \"FAZ\", \"CURE\", \"NAIL\", \"DRN\", \"DRV\", \"DPST\", \"RETL\", \"SOXL\", \"SOXS\"],\n",
    "    \"Daily Bull & Bear 2X ETFs\": [\"BRZU\", \"CHAU\", \"CWEB\", \"ERX\", \"ERY\", \"GUSH\", \"DRIP\", \"INDL\", \"JNUG\", \"JDST\", \"NUGT\", \"DUST\", \"SPUU\", \"UBOT\", \"CLDL\", \"OOTO\", \"KLNE\", \"FNGG\", \"EVAV\"],\n",
    "    \"Daily Bear 1X ETFs\": [\"SPDN\"],\n",
    "    \"Single Stock ETFs\": [\"AAPU\", \"AAPD\", \"TSLL\", \"TSLS\", \"AMZU\", \"AMZD\", \"GGLL\", \"GGLS\", \"MSFU\", \"MSFD\", \"NVDU\", \"NVDD\"],\n",
    "    \"Actively Managed Tactical ETFs\": [\"HCMT\"],\n",
    "    \"Non-Leveraged ETFs\": [\"COM\", \"HJEN\", \"MOON\", \"QQQE\", \"WFH\"]\n",
    "}\n",
    "direxion_etfs_all = []\n",
    "for k,v in direxion_etfs.items():\n",
    "    direxion_etfs_all += v\n",
    "\n",
    "direxion_etfs_urls = {x: f\"https://www.direxion.com/holdings/{x}.csv\" for x in direxion_etfs_all}"
   ]
  },
  {
   "cell_type": "code",
   "execution_count": 3,
   "metadata": {},
   "outputs": [],
   "source": [
    "# 构建ARK ETF的所有代码集，以及对应的下载地址\n",
    "ark_etfs_urls = {\n",
    "    \"ARKK\": \"https://ark-funds.com/wp-content/uploads/funds-etf-csv/ARK_INNOVATION_ETF_ARKK_HOLDINGS.csv\",\n",
    "    \"ARKW\": \"https://ark-funds.com/wp-content/uploads/funds-etf-csv/ARK_NEXT_GENERATION_INTERNET_ETF_ARKW_HOLDINGS.csv\",\n",
    "    \"ARKQ\": \"https://ark-funds.com/wp-content/uploads/funds-etf-csv/ARK_AUTONOMOUS_TECH._&_ROBOTICS_ETF_ARKQ_HOLDINGS.csv\",\n",
    "    \"ARKG\": \"https://ark-funds.com/wp-content/uploads/funds-etf-csv/ARK_GENOMIC_REVOLUTION_ETF_ARKG_HOLDINGS.csv\",\n",
    "    \"ARKF\": \"https://ark-funds.com/wp-content/uploads/funds-etf-csv/ARK_FINTECH_INNOVATION_ETF_ARKF_HOLDINGS.csv\",\n",
    "    \"ARKX\": \"https://ark-funds.com/wp-content/uploads/funds-etf-csv/ARK_SPACE_EXPLORATION_&_INNOVATION_ETF_ARKX_HOLDINGS.csv\",\n",
    "}"
   ]
  },
  {
   "cell_type": "markdown",
   "metadata": {},
   "source": [
    "### 根据每家ETF持仓文件的格式，清理数据并写入数据库"
   ]
  },
  {
   "cell_type": "code",
   "execution_count": 4,
   "metadata": {},
   "outputs": [
    {
     "name": "stderr",
     "output_type": "stream",
     "text": [
      "100%|██████████| 76/76 [00:37<00:00,  2.02it/s]\n"
     ]
    }
   ],
   "source": [
    "from tqdm import tqdm\n",
    "holdings_data = {}\n",
    "etf_urls = {**direxion_etfs_urls, **ark_etfs_urls}\n",
    "for tic, url in tqdm(etf_urls.items()):\n",
    "    holdings_data[tic] = get_etf_holdings_text(url)"
   ]
  },
  {
   "cell_type": "code",
   "execution_count": 5,
   "metadata": {},
   "outputs": [
    {
     "name": "stderr",
     "output_type": "stream",
     "text": [
      "100%|██████████| 76/76 [00:00<00:00, 160.85it/s]\n"
     ]
    }
   ],
   "source": [
    "import io\n",
    "import pandas as pd\n",
    "holdings_csv = {}\n",
    "for tic, text in tqdm(holdings_data.items()):\n",
    "    if tic in ark_etfs_urls:\n",
    "        try:\n",
    "            df = pd.read_csv(io.StringIO(text.decode('utf-8'))).iloc[:-1,:]\n",
    "            df['date'] = df['date'].apply(pd.to_datetime).apply(lambda dt: dt.date().isoformat())\n",
    "            ark_renamer = {\n",
    "                'date':'date',\n",
    "                'fund':'etf_ticker',\n",
    "                'company':'security_name',\n",
    "                'ticker':'ticker',\n",
    "                'cusip':'cusip',\n",
    "                'shares':'shares',\n",
    "                'market value ($)':'market_value',\n",
    "                'weight (%)':'weight'\n",
    "            }\n",
    "            df.rename(columns=ark_renamer,inplace=True)\n",
    "            df['weight'] = df['weight'].apply(lambda x: float(x[:-1])/100)\n",
    "            df['shares'] = df['shares'].apply(lambda x: int(x.replace(',','')))\n",
    "            df['market_value'] = df['market_value'].apply(lambda x: float(x.replace(',','').replace('$','')))\n",
    "            holdings_csv[tic] = df\n",
    "        except:\n",
    "            print(f\"Failed to parse {tic}\")\n",
    "    elif tic in direxion_etfs_all:\n",
    "        try:\n",
    "            df = pd.read_csv(io.StringIO(text.decode('utf-8')),skiprows=5)\n",
    "            df['date'] = df['TradeDate'].apply(lambda dt: dt.split(' ')[0]).apply(pd.to_datetime).apply(lambda dt: dt.date().isoformat())\n",
    "            direxion_renamer = {\n",
    "                'AccountTicker':'etf_ticker',\n",
    "                'StockTicker':'ticker',\n",
    "                'SecurityDescription':'security_name',\n",
    "                'Shares':'shares',\n",
    "                'Price': 'price',\n",
    "                'MarketValue':'market_value',\n",
    "                'Cusip': 'cusip',\n",
    "                'HoldingsPercent': 'weight'\n",
    "            }\n",
    "            df.rename(columns=direxion_renamer,inplace=True)\n",
    "            df['weight'] = df['weight'].apply(lambda x: x/100)\n",
    "            holdings_csv[tic] = df.drop(columns=['TradeDate'])\n",
    "        except:\n",
    "            print(f\"Failed to parse {tic}\")"
   ]
  },
  {
   "cell_type": "code",
   "execution_count": 6,
   "metadata": {},
   "outputs": [
    {
     "data": {
      "text/plain": [
       "3392"
      ]
     },
     "execution_count": 6,
     "metadata": {},
     "output_type": "execute_result"
    }
   ],
   "source": [
    "import sqlite3\n",
    "import datetime\n",
    "import os\n",
    "try:\n",
    "    os.remove('etf_holdings.db')\n",
    "except:\n",
    "    pass\n",
    "\n",
    "# 写入数据库\n",
    "conn = sqlite3.connect('etf_holdings.db')\n",
    "pd.concat([df for df in holdings_csv.values()])\\\n",
    "    .assign(update_datetime=datetime.datetime.now().isoformat())\\\n",
    "    .to_sql('etf_holdings',conn,if_exists='append',index=False)"
   ]
  },
  {
   "cell_type": "code",
   "execution_count": 7,
   "metadata": {},
   "outputs": [
    {
     "data": {
      "text/html": [
       "<div>\n",
       "<style scoped>\n",
       "    .dataframe tbody tr th:only-of-type {\n",
       "        vertical-align: middle;\n",
       "    }\n",
       "\n",
       "    .dataframe tbody tr th {\n",
       "        vertical-align: top;\n",
       "    }\n",
       "\n",
       "    .dataframe thead th {\n",
       "        text-align: right;\n",
       "    }\n",
       "</style>\n",
       "<table border=\"1\" class=\"dataframe\">\n",
       "  <thead>\n",
       "    <tr style=\"text-align: right;\">\n",
       "      <th></th>\n",
       "      <th>etf_ticker</th>\n",
       "      <th>date</th>\n",
       "      <th>number_of_tickers</th>\n",
       "      <th>number_of_cusips</th>\n",
       "    </tr>\n",
       "  </thead>\n",
       "  <tbody>\n",
       "    <tr>\n",
       "      <th>0</th>\n",
       "      <td>AAPD</td>\n",
       "      <td>2023-12-29</td>\n",
       "      <td>0</td>\n",
       "      <td>7</td>\n",
       "    </tr>\n",
       "    <tr>\n",
       "      <th>1</th>\n",
       "      <td>AAPU</td>\n",
       "      <td>2023-12-29</td>\n",
       "      <td>1</td>\n",
       "      <td>8</td>\n",
       "    </tr>\n",
       "    <tr>\n",
       "      <th>2</th>\n",
       "      <td>AMZD</td>\n",
       "      <td>2023-12-29</td>\n",
       "      <td>0</td>\n",
       "      <td>6</td>\n",
       "    </tr>\n",
       "    <tr>\n",
       "      <th>3</th>\n",
       "      <td>AMZU</td>\n",
       "      <td>2023-12-29</td>\n",
       "      <td>1</td>\n",
       "      <td>7</td>\n",
       "    </tr>\n",
       "    <tr>\n",
       "      <th>4</th>\n",
       "      <td>ARKF</td>\n",
       "      <td>2023-12-29</td>\n",
       "      <td>30</td>\n",
       "      <td>31</td>\n",
       "    </tr>\n",
       "    <tr>\n",
       "      <th>...</th>\n",
       "      <td>...</td>\n",
       "      <td>...</td>\n",
       "      <td>...</td>\n",
       "      <td>...</td>\n",
       "    </tr>\n",
       "    <tr>\n",
       "      <th>71</th>\n",
       "      <td>WEBL</td>\n",
       "      <td>2023-12-29</td>\n",
       "      <td>41</td>\n",
       "      <td>47</td>\n",
       "    </tr>\n",
       "    <tr>\n",
       "      <th>72</th>\n",
       "      <td>WEBS</td>\n",
       "      <td>2023-12-29</td>\n",
       "      <td>0</td>\n",
       "      <td>6</td>\n",
       "    </tr>\n",
       "    <tr>\n",
       "      <th>73</th>\n",
       "      <td>WFH</td>\n",
       "      <td>2023-12-29</td>\n",
       "      <td>39</td>\n",
       "      <td>40</td>\n",
       "    </tr>\n",
       "    <tr>\n",
       "      <th>74</th>\n",
       "      <td>YANG</td>\n",
       "      <td>2023-12-29</td>\n",
       "      <td>0</td>\n",
       "      <td>5</td>\n",
       "    </tr>\n",
       "    <tr>\n",
       "      <th>75</th>\n",
       "      <td>YINN</td>\n",
       "      <td>2023-12-29</td>\n",
       "      <td>1</td>\n",
       "      <td>11</td>\n",
       "    </tr>\n",
       "  </tbody>\n",
       "</table>\n",
       "<p>76 rows × 4 columns</p>\n",
       "</div>"
      ],
      "text/plain": [
       "   etf_ticker        date  number_of_tickers  number_of_cusips\n",
       "0        AAPD  2023-12-29                  0                 7\n",
       "1        AAPU  2023-12-29                  1                 8\n",
       "2        AMZD  2023-12-29                  0                 6\n",
       "3        AMZU  2023-12-29                  1                 7\n",
       "4        ARKF  2023-12-29                 30                31\n",
       "..        ...         ...                ...               ...\n",
       "71       WEBL  2023-12-29                 41                47\n",
       "72       WEBS  2023-12-29                  0                 6\n",
       "73        WFH  2023-12-29                 39                40\n",
       "74       YANG  2023-12-29                  0                 5\n",
       "75       YINN  2023-12-29                  1                11\n",
       "\n",
       "[76 rows x 4 columns]"
      ]
     },
     "execution_count": 7,
     "metadata": {},
     "output_type": "execute_result"
    }
   ],
   "source": [
    "# 测试\n",
    "conn = sqlite3.connect('etf_holdings.db')\n",
    "query = \"\"\"\n",
    "select etf_ticker, date, count(ticker) as number_of_tickers, count(cusip) as number_of_cusips\n",
    "from etf_holdings\n",
    "group by etf_ticker, date\n",
    "\"\"\"\n",
    "df=pd.read_sql(query,conn)\n",
    "conn.close()\n",
    "\n",
    "df"
   ]
  },
  {
   "cell_type": "code",
   "execution_count": null,
   "metadata": {},
   "outputs": [],
   "source": []
  }
 ],
 "metadata": {
  "kernelspec": {
   "display_name": "quant-gpt",
   "language": "python",
   "name": "python3"
  },
  "language_info": {
   "codemirror_mode": {
    "name": "ipython",
    "version": 3
   },
   "file_extension": ".py",
   "mimetype": "text/x-python",
   "name": "python",
   "nbconvert_exporter": "python",
   "pygments_lexer": "ipython3",
   "version": "3.10.9"
  }
 },
 "nbformat": 4,
 "nbformat_minor": 2
}
