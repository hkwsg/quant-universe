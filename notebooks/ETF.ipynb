{
 "cells": [
  {
   "cell_type": "code",
   "execution_count": 1,
   "metadata": {},
   "outputs": [],
   "source": [
    "# add root path to sys.path\n",
    "import os\n",
    "import sys\n",
    "from pathlib import Path\n",
    "ROOT_DIR = Path(os.getcwd()).parent\n",
    "if not str(ROOT_DIR) in sys.path:\n",
    "    sys.path.append(str(ROOT_DIR))"
   ]
  },
  {
   "cell_type": "code",
   "execution_count": 2,
   "metadata": {},
   "outputs": [],
   "source": [
    "# connect to local DB\n",
    "from src.config import DB_DIR\n",
    "import sqlite3\n",
    "conn = sqlite3.connect(str(DB_DIR/'etf.db'))"
   ]
  },
  {
   "cell_type": "code",
   "execution_count": 3,
   "metadata": {},
   "outputs": [],
   "source": [
    "import numpy as np\n",
    "import pandas as pd\n",
    "import matplotlib.pyplot as plt\n",
    "table_list = pd.read_sql(\"SELECT name FROM sqlite_master WHERE type='table'\", conn).name.tolist()"
   ]
  },
  {
   "cell_type": "code",
   "execution_count": 4,
   "metadata": {},
   "outputs": [
    {
     "data": {
      "text/plain": [
       "['header',\n",
       " 'average_annual_performance',\n",
       " 'cumulative_performance',\n",
       " 'calendar_year_performance',\n",
       " 'fee_table',\n",
       " 'keyFundFacts',\n",
       " 'esgAnalytics',\n",
       " 'productInvolvement']"
      ]
     },
     "execution_count": 4,
     "metadata": {},
     "output_type": "execute_result"
    }
   ],
   "source": [
    "table_list"
   ]
  },
  {
   "cell_type": "code",
   "execution_count": 5,
   "metadata": {},
   "outputs": [],
   "source": [
    "etf_data = {}\n",
    "for t in table_list:\n",
    "    etf_data[t] = pd.read_sql(\"SELECT * FROM {}\".format(t), conn)"
   ]
  },
  {
   "cell_type": "code",
   "execution_count": 6,
   "metadata": {},
   "outputs": [
    {
     "data": {
      "text/html": [
       "<div>\n",
       "<style scoped>\n",
       "    .dataframe tbody tr th:only-of-type {\n",
       "        vertical-align: middle;\n",
       "    }\n",
       "\n",
       "    .dataframe tbody tr th {\n",
       "        vertical-align: top;\n",
       "    }\n",
       "\n",
       "    .dataframe thead th {\n",
       "        text-align: right;\n",
       "    }\n",
       "</style>\n",
       "<table border=\"1\" class=\"dataframe\">\n",
       "  <thead>\n",
       "    <tr style=\"text-align: right;\">\n",
       "      <th>ytd_perf_date</th>\n",
       "      <th>Nov 28, 2023</th>\n",
       "    </tr>\n",
       "    <tr>\n",
       "      <th>ticker</th>\n",
       "      <th></th>\n",
       "    </tr>\n",
       "  </thead>\n",
       "  <tbody>\n",
       "    <tr>\n",
       "      <th>igf</th>\n",
       "      <td>0.0159</td>\n",
       "    </tr>\n",
       "  </tbody>\n",
       "</table>\n",
       "</div>"
      ],
      "text/plain": [
       "ytd_perf_date  Nov 28, 2023\n",
       "ticker                     \n",
       "igf                  0.0159"
      ]
     },
     "execution_count": 6,
     "metadata": {},
     "output_type": "execute_result"
    }
   ],
   "source": [
    "etf_data['header'].set_index(['ticker','ytd_perf_date']).ytd_perf_value.unstack()\n",
    "\n",
    "#import plotly.express as px\n",
    "#fig = px.histogram(etf_data['header'], x=\"ytd_perf_value\")"
   ]
  },
  {
   "cell_type": "code",
   "execution_count": null,
   "metadata": {},
   "outputs": [],
   "source": [
    "etf_data['header'].groupby(['ticker','nav_change_date']).apply(lambda x: x['nav_change_value'].unique().tolist()).unstack()"
   ]
  },
  {
   "cell_type": "code",
   "execution_count": null,
   "metadata": {},
   "outputs": [],
   "source": [
    "etf_data['header'].groupby(['ticker','nav_date']).apply(lambda x: x['nav_value'].unique().tolist() ).unstack()"
   ]
  },
  {
   "cell_type": "code",
   "execution_count": null,
   "metadata": {},
   "outputs": [],
   "source": [
    "etf_data['header'].groupby(['ticker','ytd_perf_date']).apply(lambda x: x['ytd_perf_value'].unique().tolist()).unstack()"
   ]
  },
  {
   "cell_type": "code",
   "execution_count": null,
   "metadata": {},
   "outputs": [],
   "source": [
    "etf_data['header'].columns"
   ]
  },
  {
   "cell_type": "code",
   "execution_count": null,
   "metadata": {},
   "outputs": [],
   "source": [
    "date_col = 'ytd_perf_date'\n",
    "for c in etf_data['header'].columns:\n",
    "    print(c)\n",
    "    df=etf_data['header'].groupby(['ticker',date_col]).apply(lambda x: x[c].count())\n",
    "    df2=etf_data['header'].groupby(['ticker',date_col]).apply(lambda x: x[c].unique().tolist())\n",
    "    display(df2[df>1])"
   ]
  },
  {
   "cell_type": "code",
   "execution_count": null,
   "metadata": {},
   "outputs": [],
   "source": [
    "def calc_active_total_return(df):\n",
    "    try:\n",
    "        df_dict = df.set_index('performance_type').cumulative_performance.to_dict()\n",
    "        total_ret = df_dict.get('Total Return (%)', np.nan)\n",
    "        benchmark_ret = df_dict.get('Benchmark (%)', np.nan)    \n",
    "        return total_ret - benchmark_ret\n",
    "    except:\n",
    "        return np.nan\n",
    "\n",
    "perf_horizons = etf_data['cumulative_performance'].performance_horizon.unique().tolist()\n",
    "ncols=3\n",
    "nrows=(perf_horizons.__len__()//3)\n",
    "fig, axs = plt.subplots(ncols=ncols, nrows=nrows, figsize=(6*ncols, 4*nrows))\n",
    "iter_axs = axs.flatten()\n",
    "for i, ax in enumerate(iter_axs):\n",
    "    #ax.set_xlim(-50, 50)\n",
    "    #ax.set_ylim(0, 0.1)\n",
    "    ax.set_xlabel('Active Total Return (%)')\n",
    "    ax.set_ylabel('Frequency')\n",
    "    ax.set_title('Performance Horizon: {}'.format(perf_horizons[i].upper()))\n",
    "    ax.grid(True)\n",
    "    ax.set_axisbelow(True)\n",
    "    ax.tick_params(axis='both', which='major', labelsize=12)\n",
    "    ax.tick_params(axis='both', which='minor', labelsize=10)\n",
    "    ax.minorticks_on()\n",
    "    #ax.grid(b=True, which='minor', color='lightgrey', linestyle='--', alpha=0.5)\n",
    "    #ax.grid(b=True, which='major', color='grey', linestyle='-', alpha=0.5)\n",
    "    active_ret_data = etf_data['cumulative_performance'].groupby(['ticker','performance_horizon'])\\\n",
    "        .apply(calc_active_total_return).rename('Active Total Return (%)')\\\n",
    "        .unstack()[perf_horizons[i]]\n",
    "    # share of positive active returns\n",
    "    hit_rate = active_ret_data[active_ret_data>0].size/active_ret_data.size    \n",
    "\n",
    "    active_ret_data.hist(bins=50, edgecolor='white', color='tomato', ax=ax)\n",
    "    #plt.text(0.05, 0.95, 'Hit Rate: {:.2f}%'.format(hit_rate*100), \n",
    "    #         transform=ax.transAxes, fontsize=10, color='red',\n",
    "    #         verticalalignment='top', \n",
    "    #         bbox=dict(boxstyle='round', facecolor='white', alpha=0.5))\n",
    "\n",
    "    if i == perf_horizons.__len__()-1:\n",
    "        break\n",
    "    \n",
    "# clear emtpy plots\n",
    "for i in range(iter_axs.__len__(), axs.size):\n",
    "    fig.delaxes(axs.flatten()[i])\n",
    "plt.tight_layout()\n",
    "plt.savefig('active_etf_returns.png', dpi=300, bbox_inches='tight')"
   ]
  },
  {
   "cell_type": "code",
   "execution_count": null,
   "metadata": {},
   "outputs": [],
   "source": [
    "#base on this full Xpath, read it from soup /html/body/div[6]/div[2]/div[1]/div[4]/div/div[1]/div[5]/svg/g[5]/g[3]/path[1]"
   ]
  },
  {
   "cell_type": "code",
   "execution_count": null,
   "metadata": {},
   "outputs": [],
   "source": [
    "url = 'https://www.ishares.com/us/products/244049/ishares-core-msci-eafe-etf'"
   ]
  },
  {
   "cell_type": "code",
   "execution_count": null,
   "metadata": {},
   "outputs": [],
   "source": [
    "def get_etf_response(url):\n",
    "    import requests\n",
    "    from bs4 import BeautifulSoup, NavigableString\n",
    "    response = requests.get(url)\n",
    "    soup = BeautifulSoup(response.content, 'html.parser')\n",
    "    return soup"
   ]
  },
  {
   "cell_type": "code",
   "execution_count": null,
   "metadata": {},
   "outputs": [],
   "source": [
    "soup = get_etf_response(url)"
   ]
  },
  {
   "cell_type": "code",
   "execution_count": null,
   "metadata": {},
   "outputs": [],
   "source": [
    "soup.find('h1').contents[0].strip()"
   ]
  }
 ],
 "metadata": {
  "kernelspec": {
   "display_name": "quant-gpt",
   "language": "python",
   "name": "python3"
  },
  "language_info": {
   "codemirror_mode": {
    "name": "ipython",
    "version": 3
   },
   "file_extension": ".py",
   "mimetype": "text/x-python",
   "name": "python",
   "nbconvert_exporter": "python",
   "pygments_lexer": "ipython3",
   "version": "3.8.13"
  }
 },
 "nbformat": 4,
 "nbformat_minor": 2
}
